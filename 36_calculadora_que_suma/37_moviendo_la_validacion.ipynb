{
 "cells": [
  {
   "cell_type": "code",
   "execution_count": null,
   "metadata": {},
   "outputs": [],
   "source": []
  },
  {
   "cell_type": "markdown",
   "metadata": {},
   "source": [
    "# Moviendo la validación"
   ]
  },
  {
   "cell_type": "markdown",
   "metadata": {},
   "source": [
    "## [Video de apoyo](https://www.youtube.com/watch?v=4neqXw1Uovw)"
   ]
  },
  {
   "cell_type": "code",
   "execution_count": 1,
   "metadata": {},
   "outputs": [
    {
     "name": "stdout",
     "output_type": "stream",
     "text": [
      "La suma del primero y el segundo es:  25\n"
     ]
    }
   ],
   "source": [
    "primero = input('ingrese primer número: ')\n",
    "\n",
    "try:\n",
    "    primero = int(primero)\n",
    "except: \n",
    "    primero = 'chanchito feliz' \n",
    "\n",
    "if primero == 'chanchito feliz':\n",
    "    print('El valor ingresado no es un entero')\n",
    "    exit()\n",
    "\n",
    "\n",
    "segundo = input('ingrese segundo número: ')\n",
    "\n",
    "try:\n",
    "    segundo = int(segundo)\n",
    "except: \n",
    "    segundo = 'chanchito feliz'    \n",
    "   \n",
    "\n",
    "if segundo == 'chanchito feliz':\n",
    "    print('El valor ingresado no es un entero')\n",
    "    exit()\n",
    "\n",
    "print('La suma del primero y el segundo es: ', primero + segundo)"
   ]
  },
  {
   "cell_type": "code",
   "execution_count": 2,
   "metadata": {},
   "outputs": [
    {
     "data": {
      "text/plain": [
       "(12, 13)"
      ]
     },
     "execution_count": 2,
     "metadata": {},
     "output_type": "execute_result"
    }
   ],
   "source": [
    "\n",
    "primero, segundo"
   ]
  },
  {
   "cell_type": "markdown",
   "metadata": {},
   "source": [
    "# Práctica de codificación y video"
   ]
  },
  {
   "cell_type": "code",
   "execution_count": 1,
   "metadata": {},
   "outputs": [
    {
     "name": "stdout",
     "output_type": "stream",
     "text": [
      "El numero ingresado no es un entero\n"
     ]
    },
    {
     "ename": "TypeError",
     "evalue": "unsupported operand type(s) for +: 'int' and 'str'",
     "output_type": "error",
     "traceback": [
      "\u001b[0;31m---------------------------------------------------------------------------\u001b[0m",
      "\u001b[0;31mTypeError\u001b[0m                                 Traceback (most recent call last)",
      "Cell \u001b[0;32mIn[1], line 21\u001b[0m\n\u001b[1;32m     18\u001b[0m     \u001b[39mprint\u001b[39m(\u001b[39m'\u001b[39m\u001b[39mEl numero ingresado no es un entero\u001b[39m\u001b[39m'\u001b[39m)  \n\u001b[1;32m     19\u001b[0m     exit()  \n\u001b[0;32m---> 21\u001b[0m \u001b[39mprint\u001b[39m(\u001b[39m'\u001b[39m\u001b[39mLa suma de los dos números es: \u001b[39m\u001b[39m'\u001b[39m, primero \u001b[39m+\u001b[39;49m segundo)        \n",
      "\u001b[0;31mTypeError\u001b[0m: unsupported operand type(s) for +: 'int' and 'str'"
     ]
    },
    {
     "ename": "",
     "evalue": "",
     "output_type": "error",
     "traceback": [
      "\u001b[1;31mThe Kernel crashed while executing code in the the current cell or a previous cell. Please review the code in the cell(s) to identify a possible cause of the failure. Click <a href='https://aka.ms/vscodeJupyterKernelCrash'>here</a> for more info. View Jupyter <a href='command:jupyter.viewOutput'>log</a> for further details."
     ]
    }
   ],
   "source": [
    "primero = input('Entre el primer entero: ')\n",
    "try:\n",
    "    primero = int(primero)\n",
    "except:\n",
    "    primero = 'hola'\n",
    "\n",
    "if primero=='hola':\n",
    "    print('El numero ingresado no es un entero')  \n",
    "    exit()  \n",
    "\n",
    "segundo = input('Entre el segundo entero: ')\n",
    "try:\n",
    "    segundo = int(segundo)\n",
    "except:\n",
    "    segundo = 'hola'\n",
    "\n",
    "if segundo=='hola':\n",
    "    print('El numero ingresado no es un entero')  \n",
    "    exit()  \n",
    "\n",
    "print('La suma de los dos números es: ', primero + segundo)        \n",
    "        \n",
    "\n"
   ]
  },
  {
   "cell_type": "code",
   "execution_count": null,
   "metadata": {},
   "outputs": [],
   "source": []
  },
  {
   "cell_type": "code",
   "execution_count": null,
   "metadata": {},
   "outputs": [],
   "source": []
  },
  {
   "cell_type": "code",
   "execution_count": null,
   "metadata": {},
   "outputs": [],
   "source": []
  },
  {
   "cell_type": "code",
   "execution_count": null,
   "metadata": {},
   "outputs": [],
   "source": []
  }
 ],
 "metadata": {
  "kernelspec": {
   "display_name": ".venv",
   "language": "python",
   "name": "python3"
  },
  "language_info": {
   "codemirror_mode": {
    "name": "ipython",
    "version": 3
   },
   "file_extension": ".py",
   "mimetype": "text/x-python",
   "name": "python",
   "nbconvert_exporter": "python",
   "pygments_lexer": "ipython3",
   "version": "3.10.11"
  },
  "orig_nbformat": 4
 },
 "nbformat": 4,
 "nbformat_minor": 2
}
